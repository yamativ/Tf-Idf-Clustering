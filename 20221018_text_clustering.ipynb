{
 "cells": [
  {
   "cell_type": "code",
   "execution_count": 11,
   "id": "7c65f047",
   "metadata": {},
   "outputs": [
    {
     "name": "stdout",
     "output_type": "stream",
     "text": [
      "Time taken: 6.046619892120361 seconds\n"
     ]
    }
   ],
   "source": [
    "# importing libraries\n",
    "import pandas as pd # data science essentials\n",
    "import matplotlib.pyplot as plt # data visualization\n",
    "from nltk import ngrams # n-grams\n",
    "import time\n",
    "import random\n",
    "import numpy as np\n",
    "\n",
    "# Timer Start \n",
    "start = time.time()\n",
    "\n",
    "# setting pandas print options\n",
    "pd.set_option('display.max_rows', 500)\n",
    "pd.set_option('display.max_columns', 500)\n",
    "pd.set_option('display.width', 1000)\n",
    "\n",
    "\n",
    "o =   '/Users/takahiroyamada/Desktop/Challenge/search_engine/bulk_export_20220804 (1)/organization_descriptions.csv'\n",
    "q =   '/Users/takahiroyamada/Desktop/Challenge/search_engine/bulk_export_20220804 (1)/people_descriptions.csv'\n",
    "\n",
    "# reading the file into Python\n",
    "strt = pd.read_csv(  o  , usecols=['description'])\n",
    "\n",
    "print(\"Time taken: %s seconds\" %(time.time() - start))"
   ]
  },
  {
   "cell_type": "code",
   "execution_count": 12,
   "id": "a371a2e5",
   "metadata": {},
   "outputs": [
    {
     "name": "stdout",
     "output_type": "stream",
     "text": [
      "<class 'pandas.core.frame.DataFrame'>\n",
      "Int64Index: 1000 entries, 344087 to 840044\n",
      "Data columns (total 1 columns):\n",
      " #   Column       Non-Null Count  Dtype \n",
      "---  ------       --------------  ----- \n",
      " 0   description  1000 non-null   object\n",
      "dtypes: object(1)\n",
      "memory usage: 15.6+ KB\n",
      "None\n",
      "description    0\n",
      "dtype: int64\n",
      "Time taken: 0.44101572036743164 seconds\n"
     ]
    },
    {
     "data": {
      "text/html": [
       "<div>\n",
       "<style scoped>\n",
       "    .dataframe tbody tr th:only-of-type {\n",
       "        vertical-align: middle;\n",
       "    }\n",
       "\n",
       "    .dataframe tbody tr th {\n",
       "        vertical-align: top;\n",
       "    }\n",
       "\n",
       "    .dataframe thead th {\n",
       "        text-align: right;\n",
       "    }\n",
       "</style>\n",
       "<table border=\"1\" class=\"dataframe\">\n",
       "  <thead>\n",
       "    <tr style=\"text-align: right;\">\n",
       "      <th></th>\n",
       "      <th>description</th>\n",
       "    </tr>\n",
       "  </thead>\n",
       "  <tbody>\n",
       "    <tr>\n",
       "      <th>344087</th>\n",
       "      <td>Cognitive Big Data Systems use creative machin...</td>\n",
       "    </tr>\n",
       "    <tr>\n",
       "      <th>567470</th>\n",
       "      <td>Citkar is a platform for mobility in the urban...</td>\n",
       "    </tr>\n",
       "    <tr>\n",
       "      <th>11289</th>\n",
       "      <td>Proclivity Systems develops innovative solutio...</td>\n",
       "    </tr>\n",
       "    <tr>\n",
       "      <th>466465</th>\n",
       "      <td>SupraG Energy is a graphene technology develop...</td>\n",
       "    </tr>\n",
       "    <tr>\n",
       "      <th>207900</th>\n",
       "      <td>Dorkly is a blogging platform that covers ever...</td>\n",
       "    </tr>\n",
       "    <tr>\n",
       "      <th>544688</th>\n",
       "      <td>Hempstil is a UK based company supplying high-...</td>\n",
       "    </tr>\n",
       "    <tr>\n",
       "      <th>780579</th>\n",
       "      <td>Rockwills Group provides solutions and support...</td>\n",
       "    </tr>\n",
       "    <tr>\n",
       "      <th>260851</th>\n",
       "      <td>Paagr Technologies offers healthcare organizat...</td>\n",
       "    </tr>\n",
       "    <tr>\n",
       "      <th>713783</th>\n",
       "      <td>Berenson Capital is a sector-focused private e...</td>\n",
       "    </tr>\n",
       "    <tr>\n",
       "      <th>53955</th>\n",
       "      <td>CallMeMeeting provides audio conferencing from...</td>\n",
       "    </tr>\n",
       "  </tbody>\n",
       "</table>\n",
       "</div>"
      ],
      "text/plain": [
       "                                              description\n",
       "344087  Cognitive Big Data Systems use creative machin...\n",
       "567470  Citkar is a platform for mobility in the urban...\n",
       "11289   Proclivity Systems develops innovative solutio...\n",
       "466465  SupraG Energy is a graphene technology develop...\n",
       "207900  Dorkly is a blogging platform that covers ever...\n",
       "544688  Hempstil is a UK based company supplying high-...\n",
       "780579  Rockwills Group provides solutions and support...\n",
       "260851  Paagr Technologies offers healthcare organizat...\n",
       "713783  Berenson Capital is a sector-focused private e...\n",
       "53955   CallMeMeeting provides audio conferencing from..."
      ]
     },
     "execution_count": 12,
     "metadata": {},
     "output_type": "execute_result"
    }
   ],
   "source": [
    "start = time.time()\n",
    "\n",
    "strt = strt.sample(n=1000)\n",
    "\n",
    "# read data limit to resuce the data size \n",
    "#strt =  strt[:1000]\n",
    "\n",
    "# infomation about data frame\n",
    "print(strt.info(verbose = True))\n",
    "\n",
    "#counting null data \n",
    "print(strt.isnull().sum())\n",
    "\n",
    "#Timer show the time \n",
    "print(\"Time taken: %s seconds\" %(time.time() - start))\n",
    "\n",
    "# outputting the first five rows of the dataset\n",
    "strt.head(n=10)"
   ]
  },
  {
   "cell_type": "code",
   "execution_count": 17,
   "id": "19199f35",
   "metadata": {},
   "outputs": [
    {
     "name": "stdout",
     "output_type": "stream",
     "text": [
      "Time taken: 4.6550679206848145 seconds\n"
     ]
    }
   ],
   "source": [
    "from sklearn.feature_extraction import text\n",
    "from scipy.cluster.vq import kmeans, vq\n",
    "from nltk.tokenize import word_tokenize\n",
    "import re\n",
    "import spacy\n",
    "\n",
    "start = time.time()\n",
    "\n",
    "\n",
    "nlp = spacy.load(\"en_core_web_sm\")\n",
    "\n",
    "# Function to preprocess text\n",
    "def preprocess(text):\n",
    "  \t# Create Doc object\n",
    "    doc = nlp(text, disable=['ner', 'parser'])\n",
    "    # Generate lemmas\n",
    "    lemmas = [token.lemma_ for token in doc]\n",
    "    # Remove stopwords and non-alphabetic characters\n",
    "    a_lemmas = [lemma for lemma in lemmas \n",
    "            if lemma.isalpha() and lemma]\n",
    "    \n",
    "    return ' '.join(a_lemmas)\n",
    "  \n",
    "# Apply preprocess to ted['transcript']\n",
    "strt['description'] = strt['description'].apply(preprocess)\n",
    "strt_rdy =  strt['description']\n",
    "\n",
    "c_stop_words = text.ENGLISH_STOP_WORDS.union(['chief', 'officer', 'president', \n",
    "                                              'served', 'executive','www', 'crunchbase', 'com', \n",
    "                                              'organization', 'https','founder', 'ceo', 'cto', 'partner', \n",
    "                                              'ventures', 'technology', 'company', 'acquired', 'companies', \n",
    "                                              'business','attended', 'university', 'founder', 'school', 'board'])                                       \n",
    "                                             \n",
    "#strt = strt.dropna(subset=['description'])\n",
    "#strt_rdy =  strt['description']\n",
    "#vectorizer = TfidfVectorizer(ngram_range=(1,1), stop_words=my_stop_words)\n",
    "tfidf_vectorizer = TfidfVectorizer(stop_words = c_stop_words)\n",
    "tfidf_matrix = tfidf_vectorizer.fit_transform(strt_rdy)\n",
    "\n",
    "print(\"Time taken: %s seconds\" %(time.time() - start))"
   ]
  },
  {
   "cell_type": "code",
   "execution_count": 18,
   "id": "947c263f",
   "metadata": {},
   "outputs": [
    {
     "name": "stdout",
     "output_type": "stream",
     "text": [
      "['provide', 'service', 'offer', 'product', 'base']\n",
      "['build', 'new', 'help', 'product', 'project']\n",
      "['equipment', 'brand', 'manufacturer', 'product', 'customer']\n",
      "['marketing', 'digital', 'social', 'design', 'provide']\n",
      "['service', 'management', 'solution', 'provide', 'datum']\n",
      "Time taken: 4.693297863006592 seconds\n"
     ]
    }
   ],
   "source": [
    "from sklearn.feature_extraction.text import TfidfVectorizer\n",
    "import numpy as np\n",
    "\n",
    "start = time.time()\n",
    "\n",
    "num_clusters = 5\n",
    "\n",
    "# Generate cluster centers through the kmeans function\n",
    "cluster_centers, distortion = kmeans(tfidf_matrix.todense(), num_clusters)\n",
    "\n",
    "# Generate terms from the tfidf_vectorizer object\n",
    "terms = tfidf_vectorizer.get_feature_names_out()\n",
    "\n",
    "for i in range(num_clusters):\n",
    "    # Sort the terms and print top 3 terms\n",
    "    center_terms = dict(zip(terms, list(cluster_centers[i])))\n",
    "    sorted_terms = sorted(center_terms, key=center_terms.get, reverse=True)\n",
    "    print(sorted_terms[0:5])\n",
    "    \n",
    "print(\"Time taken: %s seconds\" %(time.time() - start))"
   ]
  }
 ],
 "metadata": {
  "kernelspec": {
   "display_name": "Python 3",
   "language": "python",
   "name": "python3"
  },
  "language_info": {
   "codemirror_mode": {
    "name": "ipython",
    "version": 3
   },
   "file_extension": ".py",
   "mimetype": "text/x-python",
   "name": "python",
   "nbconvert_exporter": "python",
   "pygments_lexer": "ipython3",
   "version": "3.8.8"
  },
  "toc": {
   "base_numbering": 1,
   "nav_menu": {},
   "number_sections": true,
   "sideBar": true,
   "skip_h1_title": false,
   "title_cell": "Table of Contents",
   "title_sidebar": "Contents",
   "toc_cell": false,
   "toc_position": {},
   "toc_section_display": true,
   "toc_window_display": false
  },
  "varInspector": {
   "cols": {
    "lenName": 16,
    "lenType": 16,
    "lenVar": 40
   },
   "kernels_config": {
    "python": {
     "delete_cmd_postfix": "",
     "delete_cmd_prefix": "del ",
     "library": "var_list.py",
     "varRefreshCmd": "print(var_dic_list())"
    },
    "r": {
     "delete_cmd_postfix": ") ",
     "delete_cmd_prefix": "rm(",
     "library": "var_list.r",
     "varRefreshCmd": "cat(var_dic_list()) "
    }
   },
   "types_to_exclude": [
    "module",
    "function",
    "builtin_function_or_method",
    "instance",
    "_Feature"
   ],
   "window_display": false
  }
 },
 "nbformat": 4,
 "nbformat_minor": 5
}
